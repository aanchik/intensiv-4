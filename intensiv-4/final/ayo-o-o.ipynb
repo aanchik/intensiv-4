{
 "cells": [
  {
   "cell_type": "code",
   "execution_count": 106,
   "metadata": {},
   "outputs": [],
   "source": [
    "import pandas as pd\n",
    "\n",
    "import numpy as np\n",
    "\n",
    "from nltk.corpus import stopwords\n",
    "\n",
    "from pymorphy3 import MorphAnalyzer\n",
    "\n",
    "from sklearn.feature_extraction.text import TfidfVectorizer\n",
    "from sklearn.preprocessing import StandardScaler\n",
    "from sklearn.compose import ColumnTransformer\n",
    "from sklearn.pipeline import Pipeline\n",
    "from sklearn.linear_model import LogisticRegression\n",
    "from sklearn.ensemble import RandomForestClassifier\n",
    "from sklearn.multioutput import MultiOutputClassifier\n",
    "from sklearn.multiclass import OneVsRestClassifier\n",
    "from sklearn.metrics import roc_auc_score\n",
    "from sklearn.metrics import f1_score\n",
    "from sklearn.model_selection import cross_val_predict\n",
    "from sklearn.model_selection import GridSearchCV"
   ]
  },
  {
   "cell_type": "code",
   "execution_count": 107,
   "metadata": {},
   "outputs": [],
   "source": [
    "df_train=pd.read_csv(\"clean_train.csv\")\n",
    "df_test=pd.read_csv(\"clean_test.csv\")"
   ]
  },
  {
   "cell_type": "code",
   "execution_count": 108,
   "metadata": {},
   "outputs": [
    {
     "data": {
      "text/plain": [
       "id                                 int64\n",
       "comment                           object\n",
       "rating                             int64\n",
       "Вопрос не решен                    int64\n",
       "Вопрос решен                       int64\n",
       "Не понравилось качество услуги     int64\n",
       "Не понравился результат услуги     int64\n",
       "Понравилась работа сотрудников     int64\n",
       "Понравилась скорость работы        int64\n",
       "Понравилось качество услуги        int64\n",
       "Понравился результат услуги        int64\n",
       "Претензии и предложения            int64\n",
       "dtype: object"
      ]
     },
     "execution_count": 108,
     "metadata": {},
     "output_type": "execute_result"
    }
   ],
   "source": [
    "df_train.dtypes"
   ]
  },
  {
   "cell_type": "code",
   "execution_count": 131,
   "metadata": {},
   "outputs": [],
   "source": [
    "tag_columns=[\"Вопрос не решен\",\n",
    "             \"Вопрос решен\",\n",
    "             \"Не понравилось качество услуги\",\n",
    "             \"Не понравился результат услуги\",\n",
    "             \"Понравилась работа сотрудников\",\n",
    "             \"Понравилась скорость работы\",\n",
    "             \"Понравилось качество услуги\",\n",
    "             \"Понравился результат услуги\",\n",
    "             \"Претензии и предложения\"]"
   ]
  },
  {
   "cell_type": "markdown",
   "metadata": {},
   "source": [
    "## препроцессинг"
   ]
  },
  {
   "cell_type": "markdown",
   "metadata": {},
   "source": [
    "### лемур хз не читал"
   ]
  },
  {
   "cell_type": "code",
   "execution_count": 132,
   "metadata": {},
   "outputs": [],
   "source": [
    "morph=MorphAnalyzer()\n",
    "def lemmatize_text(text):\n",
    "    words=text.split()\n",
    "    return ' '.join([morph.parse(word)[0].normal_form for word in words])\n",
    "\n",
    "df_train['comment']=df_train['comment'].apply(lemmatize_text)\n",
    "df_test['comment']=df_test['comment'].apply(lemmatize_text)"
   ]
  },
  {
   "cell_type": "markdown",
   "metadata": {},
   "source": [
    "### веса для тэгов"
   ]
  },
  {
   "cell_type": "code",
   "execution_count": 133,
   "metadata": {},
   "outputs": [],
   "source": [
    "def calculate_class_weights(y):\n",
    "    class_weights=[]\n",
    "    for tag in y.columns:\n",
    "        pos=np.sum(y[tag])\n",
    "        neg=len(y) - pos\n",
    "        class_weights.append({0:1,1:neg/pos if pos>0 else 1})\n",
    "    return class_weights\n",
    "\n",
    "y=df_train[tag_columns]\n",
    "class_weights=calculate_class_weights(y)"
   ]
  },
  {
   "cell_type": "markdown",
   "metadata": {},
   "source": [
    "### слова типа ну э ам ну как там ну типа это ну кароче ну вы поняли"
   ]
  },
  {
   "cell_type": "code",
   "execution_count": 134,
   "metadata": {},
   "outputs": [],
   "source": [
    "russian_stop_words=stopwords.words('russian')\n",
    "preprocessor=ColumnTransformer(\n",
    "    transformers=[\n",
    "        ('text',TfidfVectorizer(\n",
    "            stop_words=russian_stop_words,\n",
    "            max_features=5000,\n",
    "            ngram_range=(1,2)),\n",
    "        'comment'),\n",
    "        ('num',StandardScaler(),['rating'])],\n",
    "    remainder='drop')\n",
    "\n",
    "X_train=df_train[['comment','rating']]\n",
    "y_train=df_train[tag_columns]\n",
    "\n",
    "X_test=df_test[['comment','rating']]\n",
    "y_test=df_test[tag_columns]"
   ]
  },
  {
   "cell_type": "markdown",
   "metadata": {},
   "source": [
    "## Модели"
   ]
  },
  {
   "cell_type": "markdown",
   "metadata": {},
   "source": [
    "### логхистичшеска рэгхрэсся"
   ]
  },
  {
   "cell_type": "code",
   "execution_count": null,
   "metadata": {},
   "outputs": [],
   "source": [
    "model=Pipeline([\n",
    "    ('preprocessor',preprocessor),\n",
    "    ('clf',MultiOutputClassifier(\n",
    "        LogisticRegression(\n",
    "            max_iter=1000,\n",
    "            class_weight='balanced')))])"
   ]
  },
  {
   "cell_type": "markdown",
   "metadata": {},
   "source": [
    "### случайный лес"
   ]
  },
  {
   "cell_type": "code",
   "execution_count": 135,
   "metadata": {},
   "outputs": [],
   "source": [
    "model=Pipeline([\n",
    "    ('preprocessor',preprocessor),\n",
    "    ('clf',MultiOutputClassifier(\n",
    "        RandomForestClassifier(\n",
    "            class_weight='balanced_subsample',\n",
    "            n_estimators=100)))])"
   ]
  },
  {
   "cell_type": "markdown",
   "metadata": {},
   "source": [
    "## тренировка и оценочка"
   ]
  },
  {
   "cell_type": "markdown",
   "metadata": {},
   "source": [
    "### тренировка"
   ]
  },
  {
   "cell_type": "code",
   "execution_count": 150,
   "metadata": {},
   "outputs": [],
   "source": [
    "model.fit(X_train, y_train)\n",
    "y_proba_train=model.predict_proba(X_train)\n",
    "y_pred_train=model.predict(X_train)\n",
    "y_proba_test=model.predict_proba(X_test)\n",
    "y_pred_test=model.predict(X_test)"
   ]
  },
  {
   "cell_type": "markdown",
   "metadata": {},
   "source": [
    "### поиск клеточек"
   ]
  },
  {
   "cell_type": "code",
   "execution_count": 151,
   "metadata": {},
   "outputs": [
    {
     "name": "stdout",
     "output_type": "stream",
     "text": [
      "Fitting 3 folds for each of 18 candidates, totalling 54 fits\n",
      "Best parameters: {'clf__estimator__C': 1, 'preprocessor__text__max_features': 3000, 'preprocessor__text__ngram_range': (1, 1)}\n"
     ]
    }
   ],
   "source": [
    "param_grid = {\n",
    "    'preprocessor__text__max_features':[3000,5000,7000],\n",
    "    'preprocessor__text__ngram_range':[(1,1),(1,2)],\n",
    "    'clf__estimator__C':[0.1,1,10],}\n",
    "model = Pipeline([\n",
    "    ('preprocessor',preprocessor),\n",
    "    ('clf',OneVsRestClassifier(LogisticRegression(max_iter=1000,class_weight='balanced')))])\n",
    "grid_search = GridSearchCV(\n",
    "    model,\n",
    "    param_grid,\n",
    "    scoring='roc_auc_ovr',\n",
    "    cv=3,\n",
    "    n_jobs=-1,\n",
    "    verbose=1)\n",
    "grid_search.fit(X_train,y_train)\n",
    "best_model = grid_search.best_estimator_\n",
    "print(\"Best parameters:\",grid_search.best_params_)"
   ]
  },
  {
   "cell_type": "markdown",
   "metadata": {},
   "source": [
    "### оценочка"
   ]
  },
  {
   "cell_type": "code",
   "execution_count": 154,
   "metadata": {},
   "outputs": [
    {
     "ename": "IndexError",
     "evalue": "too many indices for array: array is 1-dimensional, but 2 were indexed",
     "output_type": "error",
     "traceback": [
      "\u001b[31m---------------------------------------------------------------------------\u001b[39m",
      "\u001b[31mIndexError\u001b[39m                                Traceback (most recent call last)",
      "\u001b[36mCell\u001b[39m\u001b[36m \u001b[39m\u001b[32mIn[154]\u001b[39m\u001b[32m, line 4\u001b[39m\n\u001b[32m      2\u001b[39m f1_scores = {}\n\u001b[32m      3\u001b[39m \u001b[38;5;28;01mfor\u001b[39;00m i, tag \u001b[38;5;129;01min\u001b[39;00m \u001b[38;5;28menumerate\u001b[39m(tag_columns):\n\u001b[32m----> \u001b[39m\u001b[32m4\u001b[39m     roc_auc_train=\u001b[38;5;28mround\u001b[39m(roc_auc_score(y_train[tag],\u001b[43my_proba_train\u001b[49m\u001b[43m[\u001b[49m\u001b[43mi\u001b[49m\u001b[43m]\u001b[49m\u001b[43m[\u001b[49m\u001b[43m:\u001b[49m\u001b[43m,\u001b[49m\u001b[32;43m1\u001b[39;49m\u001b[43m]\u001b[49m),\u001b[32m2\u001b[39m)\n\u001b[32m      5\u001b[39m     roc_auc_test=\u001b[38;5;28mround\u001b[39m(roc_auc_score(y_test[tag],y_proba_test[i][:,\u001b[32m1\u001b[39m]),\u001b[32m2\u001b[39m)\n\u001b[32m      6\u001b[39m     roc_auc_scores[tag]=roc_auc_train\n",
      "\u001b[31mIndexError\u001b[39m: too many indices for array: array is 1-dimensional, but 2 were indexed"
     ]
    }
   ],
   "source": [
    "roc_auc_scores={}\n",
    "f1_scores={}\n",
    "for i,tag in enumerate(tag_columns):\n",
    "    roc_auc_train=round(roc_auc_score(y_train[tag],y_proba_train[i][:,1]),2)\n",
    "    roc_auc_test=round(roc_auc_score(y_test[tag],y_proba_test[i][:,1]),2)\n",
    "\n",
    "    f1_train_macro=round(f1_score(y_train[tag],y_pred_train[:,i],average='macro'),3)\n",
    "    f1_test_macro=round(f1_score(y_test[tag],y_pred_test[:,i],average='macro'),3)\n",
    "    f1_train_weighted=round(f1_score(y_train[tag],y_pred_train[:,i],average='weighted'),3)\n",
    "    f1_test_weighted=round(f1_score(y_test[tag],y_pred_test[:,i],average='weighted'),3)\n",
    "\n",
    "    print(f\"tag: {tag:<40} roc-auc train: {roc_auc_train}roc-auc test: {roc_auc_test}\")"
   ]
  },
  {
   "cell_type": "markdown",
   "metadata": {},
   "source": [
    "## жестокий дебагинг"
   ]
  },
  {
   "cell_type": "code",
   "execution_count": 145,
   "metadata": {},
   "outputs": [],
   "source": [
    "def predict_tags_with_proba(text,rating,threshold=0.5):\n",
    "    new_data=pd.DataFrame({'comment':[text],'rating':[rating]})\n",
    "    probabilities=best_model.predict_proba(new_data)\n",
    "    results=[]\n",
    "    for i,tag in enumerate(tag_columns):\n",
    "        proba=probabilities[0][i]\n",
    "        results.append({\n",
    "            'tag':tag,\n",
    "            'probability':proba,\n",
    "            'prediction':proba>=threshold})\n",
    "    results.sort(key=lambda x:x['probability'],reverse=True)\n",
    "    return results"
   ]
  },
  {
   "cell_type": "code",
   "execution_count": 147,
   "metadata": {},
   "outputs": [
    {
     "name": "stdout",
     "output_type": "stream",
     "text": [
      "Predicted Tags:\n",
      "Понравилась работа сотрудников           0.948 (✓)\n",
      "Понравилось качество услуги              0.791 (✓)\n",
      "Понравился результат услуги              0.727 (✓)\n",
      "Понравилась скорость работы              0.694 (✓)\n",
      "Вопрос решен                             0.559 (✓)\n",
      "Вопрос не решен                          0.364 (✗)\n",
      "Претензии и предложения                  0.278 (✗)\n",
      "Не понравился результат услуги           0.103 (✗)\n",
      "Не понравилось качество услуги           0.100 (✗)\n"
     ]
    }
   ],
   "source": [
    "new_comment=\"сотрудник быстро решил мой вопрос, качество услуги на высоте!\"\n",
    "new_rating=5\n",
    "predictions=predict_tags_with_proba(new_comment,new_rating)\n",
    "print(\"Predicted Tags:\")\n",
    "for pred in predictions:\n",
    "    print(f\"{pred['tag']:<40} {pred['probability']:.3f} ({'✓' if pred['prediction'] else '✗'})\")"
   ]
  }
 ],
 "metadata": {
  "kernelspec": {
   "display_name": "tolik",
   "language": "python",
   "name": "python3"
  },
  "language_info": {
   "codemirror_mode": {
    "name": "ipython",
    "version": 3
   },
   "file_extension": ".py",
   "mimetype": "text/x-python",
   "name": "python",
   "nbconvert_exporter": "python",
   "pygments_lexer": "ipython3",
   "version": "3.12.4"
  }
 },
 "nbformat": 4,
 "nbformat_minor": 2
}
