{
 "cells": [
  {
   "cell_type": "code",
   "execution_count": 86,
   "id": "a5de0187",
   "metadata": {},
   "outputs": [],
   "source": [
    "from sklearn.feature_extraction.text import TfidfVectorizer\n",
    "from sklearn.multioutput import MultiOutputClassifier\n",
    "from sklearn.linear_model import LogisticRegression\n",
    "from sklearn.ensemble import RandomForestClassifier\n",
    "from sklearn.svm import LinearSVC\n",
    "from sklearn.metrics import roc_auc_score, f1_score\n",
    "from sklearn.multiclass import OneVsRestClassifier\n",
    "from skmultilearn.model_selection import iterative_train_test_split\n",
    "import numpy as np\n",
    "import pandas as pd\n",
    "import joblib\n",
    "from catboost import CatBoostClassifier"
   ]
  },
  {
   "cell_type": "code",
   "execution_count": 87,
   "id": "3a9c4ed0",
   "metadata": {},
   "outputs": [
    {
     "name": "stdout",
     "output_type": "stream",
     "text": [
      "<class 'pandas.core.frame.DataFrame'>\n",
      "RangeIndex: 1812 entries, 0 to 1811\n",
      "Data columns (total 12 columns):\n",
      " #   Column                          Non-Null Count  Dtype  \n",
      "---  ------                          --------------  -----  \n",
      " 0   comment                         1812 non-null   object \n",
      " 1   id                              1812 non-null   float64\n",
      " 2   rating                          1812 non-null   float64\n",
      " 3   Вопрос не решен                 1812 non-null   int64  \n",
      " 4   Вопрос решен                    1812 non-null   int64  \n",
      " 5   Не понравилось качество услуги  1812 non-null   int64  \n",
      " 6   Не понравился результат услуги  1812 non-null   int64  \n",
      " 7   Понравилась работа сотрудников  1812 non-null   int64  \n",
      " 8   Понравилась скорость работы     1812 non-null   int64  \n",
      " 9   Понравилось качество услуги     1812 non-null   int64  \n",
      " 10  Понравился результат услуги     1812 non-null   int64  \n",
      " 11  Претензии и предложения         1812 non-null   int64  \n",
      "dtypes: float64(2), int64(9), object(1)\n",
      "memory usage: 170.0+ KB\n"
     ]
    },
    {
     "data": {
      "text/plain": [
       "(                                        comment         id  rating  \\\n",
       " 0                                       спасибо  2945792.0     5.0   \n",
       " 1                                      спасибо!  3234340.0     5.0   \n",
       " 2                                      Отлично   3380332.0     5.0   \n",
       " 3  Благодарю за оперативное решение проблемы !   3381812.0     5.0   \n",
       " 4         Прекрасный специалист! Побольше таких  3461991.0     5.0   \n",
       " \n",
       "    Вопрос не решен  Вопрос решен  Не понравилось качество услуги  \\\n",
       " 0                0             1                               0   \n",
       " 1                0             1                               0   \n",
       " 2                0             0                               0   \n",
       " 3                0             1                               0   \n",
       " 4                0             0                               0   \n",
       " \n",
       "    Не понравился результат услуги  Понравилась работа сотрудников  \\\n",
       " 0                               0                               0   \n",
       " 1                               0                               0   \n",
       " 2                               0                               0   \n",
       " 3                               0                               1   \n",
       " 4                               0                               1   \n",
       " \n",
       "    Понравилась скорость работы  Понравилось качество услуги  \\\n",
       " 0                            0                            0   \n",
       " 1                            0                            1   \n",
       " 2                            0                            0   \n",
       " 3                            1                            0   \n",
       " 4                            1                            0   \n",
       " \n",
       "    Понравился результат услуги  Претензии и предложения  \n",
       " 0                            0                        0  \n",
       " 1                            1                        0  \n",
       " 2                            1                        0  \n",
       " 3                            0                        0  \n",
       " 4                            0                        1  ,\n",
       " None)"
      ]
     },
     "execution_count": 87,
     "metadata": {},
     "output_type": "execute_result"
    }
   ],
   "source": [
    "# Загрузка данных\n",
    "df = pd.read_csv(\"Готовые данные.csv\")\n",
    "\n",
    "# Просмотр первых строк и структуры данных\n",
    "df.head(), df.info()"
   ]
  },
  {
   "cell_type": "code",
   "execution_count": 88,
   "id": "d134f7fb",
   "metadata": {},
   "outputs": [],
   "source": [
    "X_raw = df[\"comment\"]\n",
    "y = df.iloc[:, 3:]\n",
    "\n",
    "# Удалим пустые строки и строки без меток\n",
    "mask = X_raw.notnull() & (X_raw.str.strip() != \"\")\n",
    "X_raw = X_raw[mask]\n",
    "y = y[mask]\n",
    "row_mask = y.sum(axis=1) > 0\n",
    "X_raw = X_raw[row_mask]\n",
    "y = y[row_mask]\n",
    "\n",
    "# Векторизация текста\n",
    "vectorizer = TfidfVectorizer(max_features=10000)\n",
    "X = vectorizer.fit_transform(X_raw)\n",
    "X = X.toarray()\n",
    "y_array = y.values.astype(int)\n",
    "\n",
    "# Стратифицированное разбиение (70% train, 30% test)\n",
    "X_train, y_train, X_test, y_test = iterative_train_test_split(\n",
    "    X, y_array, test_size=0.3\n",
    ")\n",
    "\n",
    "# Преобразуем обратно в DataFrame, если нужно\n",
    "X_train_raw = X_raw.iloc[np.ravel(np.where(np.isin(X, X_train).all(axis=1)))].reset_index(drop=True)\n",
    "X_test_raw = X_raw.iloc[np.ravel(np.where(np.isin(X, X_test).all(axis=1)))].reset_index(drop=True)"
   ]
  },
  {
   "cell_type": "code",
   "execution_count": 89,
   "id": "45aa6770",
   "metadata": {},
   "outputs": [
    {
     "name": "stdout",
     "output_type": "stream",
     "text": [
      "\n",
      "Logistic Regression\n",
      "Label                                       ROC-AUC         F1\n",
      "-----------------------------------------------------------------\n",
      "Вопрос не решен                               0.832      0.579\n",
      "Вопрос решен                                  0.738      0.715\n",
      "Не понравилось качество услуги                0.648      0.276\n",
      "Не понравился результат услуги                0.646      0.286\n",
      "Понравилась работа сотрудников                0.810      0.714\n",
      "Понравилась скорость работы                   0.909      0.900\n",
      "Понравилось качество услуги                   0.775      0.667\n",
      "Понравился результат услуги                   0.724      0.595\n",
      "Претензии и предложения                       0.868      0.647\n",
      "-----------------------------------------------------------------\n",
      "Average ROC-AUC / F1                          0.772      0.598\n"
     ]
    },
    {
     "data": {
      "text/plain": [
       "['logistic_model.pkl']"
      ]
     },
     "execution_count": 89,
     "metadata": {},
     "output_type": "execute_result"
    }
   ],
   "source": [
    "model = MultiOutputClassifier(LogisticRegression(max_iter=2000, class_weight='balanced'))\n",
    "model.fit(X_train, y_train)\n",
    "\n",
    "# Предсказания\n",
    "y_pred = model.predict(X_test)\n",
    "\n",
    "print(\"\\nLogistic Regression\")\n",
    "print(\"{:<40} {:>10} {:>10}\".format(\"Label\", \"ROC-AUC\", \"F1\"))\n",
    "print(\"-\" * 65)\n",
    "roc_auc_values = []\n",
    "f1_values = []\n",
    "\n",
    "for i, col in enumerate(y.columns):\n",
    "    try:\n",
    "        auc = roc_auc_score(y_test[:, i], y_pred[:, i])\n",
    "        f1 = f1_score(y_test[:, i], y_pred[:, i])\n",
    "        print(f\"{col:<40} {auc:>10.3f} {f1:>10.3f}\")\n",
    "        roc_auc_values.append(auc)\n",
    "        f1_values.append(f1)\n",
    "    except Exception as e:\n",
    "        print(f\"{col:<40} {'error':>10} {'error':>10} - {str(e)}\")\n",
    "\n",
    "if roc_auc_values:\n",
    "    avg_roc_auc = np.mean(roc_auc_values)\n",
    "    avg_f1 = np.mean(f1_values)\n",
    "    print(\"-\" * 65)\n",
    "    print(f\"{'Average ROC-AUC / F1':<40} {avg_roc_auc:>10.3f} {avg_f1:>10.3f}\")\n",
    "\n",
    "joblib.dump(model, \"logistic_model.pkl\")"
   ]
  }
 ],
 "metadata": {
  "kernelspec": {
   "display_name": "Python 3",
   "language": "python",
   "name": "python3"
  },
  "language_info": {
   "codemirror_mode": {
    "name": "ipython",
    "version": 3
   },
   "file_extension": ".py",
   "mimetype": "text/x-python",
   "name": "python",
   "nbconvert_exporter": "python",
   "pygments_lexer": "ipython3",
   "version": "3.12.10"
  }
 },
 "nbformat": 4,
 "nbformat_minor": 5
}
